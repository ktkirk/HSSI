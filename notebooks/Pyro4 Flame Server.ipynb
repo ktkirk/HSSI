{
 "cells": [
  {
   "cell_type": "code",
   "execution_count": null,
   "metadata": {
    "collapsed": false
   },
   "outputs": [],
   "source": [
    "import Pyro4.utils.flame\n",
    "\n",
    "Pyro4.config.SERIALIZER = \"pickle\"    # flame requires pickle serializer\n",
    "\n",
    "flame = Pyro4.utils.flame.connect(\"localhost:9999\")    # or whatever the server runs at\n"
   ]
  },
  {
   "cell_type": "code",
   "execution_count": null,
   "metadata": {
    "collapsed": false
   },
   "outputs": [],
   "source": [
    "# basic stuff\n",
    "socketmodule = flame.module(\"socket\")\n",
    "osmodule = flame.module(\"os\")\n",
    "print(\"remote host name=\", socketmodule.gethostname())\n",
    "print(\"remote server current directory=\", osmodule.getcwd())\n",
    "flame.execute(\"import math\")\n",
    "root = flame.evaluate(\"math.sqrt(500)\")\n",
    "print(\"calculated square root=\", root)\n",
    "try:\n",
    "    print(\"remote exceptions also work...\", flame.evaluate(\"1//0\"))\n",
    "except ZeroDivisionError:\n",
    "    print(\"(caught ZeroDivisionError)\")"
   ]
  },
  {
   "cell_type": "code",
   "execution_count": 1,
   "metadata": {
    "collapsed": true
   },
   "outputs": [],
   "source": [
    "import sys\n",
    "sys.path.append('Net/rpc_sensors')"
   ]
  },
  {
   "cell_type": "code",
   "execution_count": 2,
   "metadata": {
    "collapsed": false
   },
   "outputs": [],
   "source": [
    "%load_ext flamemagic"
   ]
  },
  {
   "cell_type": "code",
   "execution_count": 4,
   "metadata": {
    "collapsed": false
   },
   "outputs": [],
   "source": [
    "%reload_ext flamemagic"
   ]
  },
  {
   "cell_type": "code",
   "execution_count": 8,
   "metadata": {
    "collapsed": false
   },
   "outputs": [
    {
     "name": "stdout",
     "output_type": "stream",
     "text": [
      "hi"
     ]
    }
   ],
   "source": [
    "%%flame\n",
    "h = 'hi'\n",
    "print(h)\n",
    "print(h*5)\n",
    "out=h"
   ]
  },
  {
   "cell_type": "code",
   "execution_count": 6,
   "metadata": {
    "collapsed": false,
    "scrolled": true
   },
   "outputs": [
    {
     "name": "stdout",
     "output_type": "stream",
     "text": [
      "hi \n",
      "hi hi hi hi hi hi hi hi hi hi \n"
     ]
    }
   ],
   "source": [
    "%%flame\n",
    "import sys\n",
    "\n",
    "if sys.version_info < (3, 0):\n",
    "    from cStringIO import StringIO\n",
    "else:\n",
    "    from io import StringIO\n",
    "\n",
    "oldout = sys.stdout\n",
    "\n",
    "sys.stdout = StringIO()\n",
    "h = 'hi '\n",
    "print(h)\n",
    "print(h*10)\n",
    "out = sys.stdout.getvalue()\n",
    "\n",
    "sys.stdout.close()   \n",
    "sys.stdout = oldout\n",
    "\n",
    "#print(out)"
   ]
  },
  {
   "cell_type": "code",
   "execution_count": null,
   "metadata": {
    "collapsed": false
   },
   "outputs": [],
   "source": [
    "print('hi \\nhi hi hi hi hi hi hi hi hi hi \\n')"
   ]
  },
  {
   "cell_type": "code",
   "execution_count": null,
   "metadata": {
    "collapsed": false
   },
   "outputs": [],
   "source": [
    "'hi \\nhi hi hi hi hi hi hi hi hi hi \\n'"
   ]
  },
  {
   "cell_type": "code",
   "execution_count": null,
   "metadata": {
    "collapsed": true
   },
   "outputs": [],
   "source": []
  }
 ],
 "metadata": {
  "kernelspec": {
   "display_name": "Python 3",
   "language": "python",
   "name": "python3"
  },
  "language_info": {
   "codemirror_mode": {
    "name": "ipython",
    "version": 3
   },
   "file_extension": ".py",
   "mimetype": "text/x-python",
   "name": "python",
   "nbconvert_exporter": "python",
   "pygments_lexer": "ipython3",
   "version": "3.5.1"
  }
 },
 "nbformat": 4,
 "nbformat_minor": 0
}
