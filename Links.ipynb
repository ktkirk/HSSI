{
 "cells": [
  {
   "cell_type": "markdown",
   "metadata": {},
   "source": [
    "Introduction to Python (2014) \n",
    "https://github.com/pythonsd/intro-to-python"
   ]
  },
  {
   "cell_type": "markdown",
   "metadata": {},
   "source": [
    "A Byte of Python http://www.swaroopch.com/notes/python/\n",
    "Python for Non-Programmersn https://wiki.python.org/moin/BeginnersGuide/NonProgrammers"
   ]
  },
  {
   "cell_type": "markdown",
   "metadata": {},
   "source": [
    "Introduction to Programming with Python http://opentechschool.github.io/python-beginners/en/index.html"
   ]
  },
  {
   "cell_type": "markdown",
   "metadata": {},
   "source": [
    "Introducing IPython Notebook https://opentechschool.github.io/python-data-intro/core/notebook.html"
   ]
  },
  {
   "cell_type": "markdown",
   "metadata": {},
   "source": [
    "Two-dimensional compressible fluid dynamics example: Quadrants\n",
    "http://nbviewer.ipython.org/gist/ketch/8333043"
   ]
  },
  {
   "cell_type": "markdown",
   "metadata": {},
   "source": [
    "Visualizing Molecular Orbitals in the IPython Notebook\n",
    "https://gabrielelanaro.github.io/blog/2015/01/14/visualizing-molecular-orbitals-ipython-notebook.html"
   ]
  },
  {
   "cell_type": "markdown",
   "metadata": {},
   "source": [
    "myChEMBL iPython Notebook Tutorial http://nbviewer.ipython.org/gist/madgpap/7673276"
   ]
  },
  {
   "cell_type": "markdown",
   "metadata": {
    "collapsed": true
   },
   "source": [
    "Computational Statistics in Python  http://people.duke.edu/~ccc14/sta-663/index.html"
   ]
  },
  {
   "cell_type": "markdown",
   "metadata": {
    "collapsed": true
   },
   "source": [
    "Web Python IDE\n",
    "* http://repl.it/languages/Python3\n",
    "* http://pythonfiddle.com/\n",
    "* https://www.pythonanywhere.com/\n",
    "* http://jupyter.org/"
   ]
  },
  {
   "cell_type": "code",
   "execution_count": null,
   "metadata": {
    "collapsed": true
   },
   "outputs": [],
   "source": []
  }
 ],
 "metadata": {
  "kernelspec": {
   "display_name": "Python 3",
   "language": "python",
   "name": "python3"
  },
  "language_info": {
   "codemirror_mode": {
    "name": "ipython",
    "version": 3
   },
   "file_extension": ".py",
   "mimetype": "text/x-python",
   "name": "python",
   "nbconvert_exporter": "python",
   "pygments_lexer": "ipython3",
   "version": "3.4.3"
  }
 },
 "nbformat": 4,
 "nbformat_minor": 0
}
